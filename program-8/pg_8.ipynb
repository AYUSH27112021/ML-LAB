{
  "cells": [
    {
      "cell_type": "markdown",
      "metadata": {
        "id": "yPHPYxWwrOoU"
      },
      "source": [
        "# bayesian belief network"
      ]
    },
    {
      "cell_type": "markdown",
      "metadata": {
        "id": "MwZY88O8VaPV"
      },
      "source": [
        "##Attribute Information:\n",
        "\n",
        "age: age in years\n",
        "\n",
        "sex: sex (1 = male; 0 = female)\n",
        "\n",
        "cp: chest pain type\n",
        "</ul>\n",
        "  <li>Value 1: typical angina</li>\n",
        "  <li>Value 2: atypical angina</li>\n",
        "  <li>Value 3: non-anginal pain</li>\n",
        "  <li>Value 4: asymptomatic</li>\n",
        "</ul>\n",
        "\n",
        "trestbps: resting blood pressure (in mm Hg on admission to the hospital)\n",
        "\n",
        "chol: serum cholestoral in mg/dl\n",
        "\n",
        "fbs: (fasting blood sugar > 120 mg/dl) (1 = true; 0 = false)\n",
        "\n",
        "restecg: resting electrocardiographic results\n",
        "</ul>\n",
        "<li>Value 0: normal</li>\n",
        "<li>Value 1: having ST-T wave abnormality (T wave inversions and/or ST elevation or depression of > 0.05 mV)</li>\n",
        "<li>Value 2: showing probable or definite left ventricular hypertrophy by Estes’ criteria</li>\n",
        "</ul>\n",
        "\n",
        "thalach: maximum heart rate achieved\n",
        "\n",
        "exang: exercise induced angina (1 = yes; 0 = no)\n",
        "\n",
        "oldpeak = ST depression induced by exercise relative to rest\n",
        "\n",
        "slope: the slope of the peak exercise ST segment\n",
        "</ul>\n",
        "<li>Value 1: upsloping</li>\n",
        "<li>Value 2: flat</li>\n",
        "<li>Value 3: downsloping</li>\n",
        "</ul>\n",
        "\n",
        "thal: 3 = normal; 6 = fixed defect; 7 = reversable defect\n",
        "\n",
        "Heartdisease: It is integer valued from 0 (no presence) to 4."
      ]
    },
    {
      "cell_type": "code",
      "execution_count": null,
      "metadata": {
        "id": "a53UUesfzOcT",
        "scrolled": true
      },
      "outputs": [],
      "source": [
        "!pip install pgmpy\n",
        "!pip install networkx"
      ]
    },
    {
      "cell_type": "code",
      "execution_count": 6,
      "metadata": {
        "id": "W9DgQ1JCrFX2"
      },
      "outputs": [
        {
          "ename": "ModuleNotFoundError",
          "evalue": "No module named 'pgmpy'",
          "output_type": "error",
          "traceback": [
            "\u001b[1;31m---------------------------------------------------------------------------\u001b[0m",
            "\u001b[1;31mModuleNotFoundError\u001b[0m                       Traceback (most recent call last)",
            "Cell \u001b[1;32mIn[6], line 3\u001b[0m\n\u001b[0;32m      1\u001b[0m \u001b[39mimport\u001b[39;00m \u001b[39mpandas\u001b[39;00m \u001b[39mas\u001b[39;00m \u001b[39mpd\u001b[39;00m\n\u001b[0;32m      2\u001b[0m \u001b[39mimport\u001b[39;00m \u001b[39mnumpy\u001b[39;00m \u001b[39mas\u001b[39;00m \u001b[39mnp\u001b[39;00m\n\u001b[1;32m----> 3\u001b[0m \u001b[39mfrom\u001b[39;00m \u001b[39mpgmpy\u001b[39;00m\u001b[39m.\u001b[39;00m\u001b[39mestimators\u001b[39;00m \u001b[39mimport\u001b[39;00m MaximumLikelihoodEstimator\n\u001b[0;32m      4\u001b[0m \u001b[39mfrom\u001b[39;00m \u001b[39mpgmpy\u001b[39;00m\u001b[39m.\u001b[39;00m\u001b[39mmodels\u001b[39;00m \u001b[39mimport\u001b[39;00m BayesianModel\n\u001b[0;32m      5\u001b[0m \u001b[39mfrom\u001b[39;00m \u001b[39mpgmpy\u001b[39;00m\u001b[39m.\u001b[39;00m\u001b[39minference\u001b[39;00m \u001b[39mimport\u001b[39;00m VariableElimination\n",
            "\u001b[1;31mModuleNotFoundError\u001b[0m: No module named 'pgmpy'"
          ]
        }
      ],
      "source": [
        "import pandas as pd\n",
        "import numpy as np\n",
        "from pgmpy.estimators import MaximumLikelihoodEstimator\n",
        "from pgmpy.models import BayesianModel\n",
        "from pgmpy.inference import VariableElimination\n",
        "import networkx as nx\n",
        "import matplotlib.pyplot as plt"
      ]
    },
    {
      "cell_type": "code",
      "execution_count": 1,
      "metadata": {
        "colab": {
          "base_uri": "https://localhost:8080/",
          "height": 206
        },
        "id": "oXWEDcm2tOxz",
        "outputId": "262a8786-da06-4035-b9df-a506ad52680e"
      },
      "outputs": [
        {
          "ename": "NameError",
          "evalue": "name 'pd' is not defined",
          "output_type": "error",
          "traceback": [
            "\u001b[1;31m---------------------------------------------------------------------------\u001b[0m",
            "\u001b[1;31mNameError\u001b[0m                                 Traceback (most recent call last)",
            "Cell \u001b[1;32mIn[1], line 1\u001b[0m\n\u001b[1;32m----> 1\u001b[0m df\u001b[39m=\u001b[39mpd\u001b[39m.\u001b[39mread_csv(\u001b[39m\"\u001b[39m\u001b[39mD:\u001b[39m\u001b[39m\\\u001b[39m\u001b[39mgithub\u001b[39m\u001b[39m\\\u001b[39m\u001b[39mML-LAB\u001b[39m\u001b[39m\\\u001b[39m\u001b[39mprogram-8\u001b[39m\u001b[39m\\\u001b[39m\u001b[39m8-dataset.csv\u001b[39m\u001b[39m\"\u001b[39m)\n\u001b[0;32m      2\u001b[0m df\u001b[39m.\u001b[39mhead()\n",
            "\u001b[1;31mNameError\u001b[0m: name 'pd' is not defined"
          ]
        }
      ],
      "source": [
        "df=pd.read_csv(\"D:\\github\\ML-LAB\\program-8\\8-dataset.csv\")\n",
        "df.head()"
      ]
    },
    {
      "cell_type": "code",
      "execution_count": null,
      "metadata": {
        "id": "NSv6pbO3XX0M"
      },
      "outputs": [],
      "source": [
        "print(df.info())\n",
        "print(pd.unique(df['age']))"
      ]
    },
    {
      "cell_type": "code",
      "execution_count": null,
      "metadata": {
        "id": "G-cXW7Cuz3RU"
      },
      "outputs": [],
      "source": [
        "model= BayesianModel([('age','heartdisease'),('gender','heartdisease'),('exang','heartdisease'),('cp','heartdisease'),('heartdisease','restecg'),('heartdisease','chol')])"
      ]
    },
    {
      "cell_type": "code",
      "execution_count": null,
      "metadata": {
        "id": "YwGjQGPl1Syb"
      },
      "outputs": [],
      "source": [
        "model.fit(df,estimator=MaximumLikelihoodEstimator)"
      ]
    },
    {
      "cell_type": "code",
      "execution_count": null,
      "metadata": {
        "colab": {
          "base_uri": "https://localhost:8080/"
        },
        "id": "jap8uMNI3F1b",
        "outputId": "9e23a564-10d5-4775-e53b-cc2af169649b"
      },
      "outputs": [
        {
          "name": "stdout",
          "output_type": "stream",
          "text": [
            "\n",
            " Inferencing with Bayesian Network:\n"
          ]
        }
      ],
      "source": [
        "print('\\n Inferencing with Bayesian Network:')\n",
        "HeartDisease_infer = VariableElimination(model)"
      ]
    },
    {
      "cell_type": "code",
      "execution_count": null,
      "metadata": {
        "colab": {
          "base_uri": "https://localhost:8080/"
        },
        "id": "evkOc_kV3N6c",
        "outputId": "91fc60c4-645f-4968-eea6-6412077e7224"
      },
      "outputs": [
        {
          "name": "stdout",
          "output_type": "stream",
          "text": [
            "\n",
            " 1. Probability of HeartDisease given evidence= cp\n",
            "+-----------------+---------------------+\n",
            "| heartdisease    |   phi(heartdisease) |\n",
            "+=================+=====================+\n",
            "| heartdisease(0) |              0.3293 |\n",
            "+-----------------+---------------------+\n",
            "| heartdisease(1) |              0.2151 |\n",
            "+-----------------+---------------------+\n",
            "| heartdisease(2) |              0.1887 |\n",
            "+-----------------+---------------------+\n",
            "| heartdisease(3) |              0.1480 |\n",
            "+-----------------+---------------------+\n",
            "| heartdisease(4) |              0.1189 |\n",
            "+-----------------+---------------------+\n"
          ]
        },
        {
          "name": "stderr",
          "output_type": "stream",
          "text": [
            "/usr/local/lib/python3.10/dist-packages/pgmpy/models/BayesianModel.py:8: FutureWarning: BayesianModel has been renamed to BayesianNetwork. Please use BayesianNetwork class, BayesianModel will be removed in future.\n",
            "  warnings.warn(\n"
          ]
        }
      ],
      "source": [
        "print('\\n 1. Probability of HeartDisease given evidence= cp')\n",
        "q1=HeartDisease_infer.query(variables=['heartdisease'],evidence={'gender':1})\n",
        "print(q1)"
      ]
    },
    {
      "cell_type": "code",
      "execution_count": null,
      "metadata": {
        "colab": {
          "base_uri": "https://localhost:8080/"
        },
        "id": "mZy3Iln9X8xk",
        "outputId": "2fffbb87-1f65-440b-ad7f-b0a2587fa01c"
      },
      "outputs": [
        {
          "name": "stdout",
          "output_type": "stream",
          "text": [
            "\n",
            " 1. Probability of HeartDisease given evidence= restecg\n",
            "+-----------------+---------------------+\n",
            "| heartdisease    |   phi(heartdisease) |\n",
            "+=================+=====================+\n",
            "| heartdisease(0) |              0.1016 |\n",
            "+-----------------+---------------------+\n",
            "| heartdisease(1) |              0.0000 |\n",
            "+-----------------+---------------------+\n",
            "| heartdisease(2) |              0.2361 |\n",
            "+-----------------+---------------------+\n",
            "| heartdisease(3) |              0.2017 |\n",
            "+-----------------+---------------------+\n",
            "| heartdisease(4) |              0.4605 |\n",
            "+-----------------+---------------------+\n"
          ]
        }
      ],
      "source": [
        "print('\\n 1. Probability of HeartDisease given evidence= restecg')\n",
        "q2=HeartDisease_infer.query(variables=['heartdisease'],evidence={'restecg':1})\n",
        "print(q2)"
      ]
    },
    {
      "cell_type": "code",
      "execution_count": null,
      "metadata": {
        "colab": {
          "base_uri": "https://localhost:8080/",
          "height": 516
        },
        "id": "2zTZP-to3k2z",
        "outputId": "63e7ca1d-0ab2-4b82-830e-035005ae5352"
      },
      "outputs": [
        {
          "data": {
            "image/png": "[encoded data removed]",
            "text/plain": [
              "<Figure size 640x480 with 1 Axes>"
            ]
          },
          "metadata": {},
          "output_type": "display_data"
        }
      ],
      "source": [
        "graph = nx.DiGraph(model.edges())\n",
        "nx.draw_networkx(graph,with_labels=True)\n",
        "#plot\n",
        "plt.show()\n"
      ]
    }
  ],
  "metadata": {
    "colab": {
      "provenance": []
    },
    "kernelspec": {
      "display_name": "Python 3 (ipykernel)",
      "language": "python",
      "name": "python3"
    },
    "language_info": {
      "codemirror_mode": {
        "name": "ipython",
        "version": 3
      },
      "file_extension": ".py",
      "mimetype": "text/x-python",
      "name": "python",
      "nbconvert_exporter": "python",
      "pygments_lexer": "ipython3",
      "version": "3.10.7"
    }
  },
  "nbformat": 4,
  "nbformat_minor": 0
}
