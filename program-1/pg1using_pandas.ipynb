{
 "cells": [
  {
   "cell_type": "code",
   "execution_count": 44,
   "metadata": {},
   "outputs": [],
   "source": [
    "import pandas as pd\n",
    "import itertools\n",
    "import numpy as np"
   ]
  },
  {
   "attachments": {},
   "cell_type": "markdown",
   "metadata": {},
   "source": [
    "## FIND-S"
   ]
  },
  {
   "cell_type": "code",
   "execution_count": 45,
   "metadata": {},
   "outputs": [
    {
     "data": {
      "text/html": [
       "<div>\n",
       "<style scoped>\n",
       "    .dataframe tbody tr th:only-of-type {\n",
       "        vertical-align: middle;\n",
       "    }\n",
       "\n",
       "    .dataframe tbody tr th {\n",
       "        vertical-align: top;\n",
       "    }\n",
       "\n",
       "    .dataframe thead th {\n",
       "        text-align: right;\n",
       "    }\n",
       "</style>\n",
       "<table border=\"1\" class=\"dataframe\">\n",
       "  <thead>\n",
       "    <tr style=\"text-align: right;\">\n",
       "      <th></th>\n",
       "      <th>0</th>\n",
       "      <th>1</th>\n",
       "      <th>2</th>\n",
       "      <th>3</th>\n",
       "      <th>4</th>\n",
       "      <th>5</th>\n",
       "      <th>6</th>\n",
       "    </tr>\n",
       "  </thead>\n",
       "  <tbody>\n",
       "    <tr>\n",
       "      <th>1</th>\n",
       "      <td>Sunny</td>\n",
       "      <td>Warm</td>\n",
       "      <td>Normal</td>\n",
       "      <td>Strong</td>\n",
       "      <td>Warm</td>\n",
       "      <td>Same</td>\n",
       "      <td>1</td>\n",
       "    </tr>\n",
       "    <tr>\n",
       "      <th>2</th>\n",
       "      <td>Sunny</td>\n",
       "      <td>Warm</td>\n",
       "      <td>High</td>\n",
       "      <td>Strong</td>\n",
       "      <td>Warm</td>\n",
       "      <td>Same</td>\n",
       "      <td>1</td>\n",
       "    </tr>\n",
       "    <tr>\n",
       "      <th>3</th>\n",
       "      <td>Rainy</td>\n",
       "      <td>Cold</td>\n",
       "      <td>High</td>\n",
       "      <td>Strong</td>\n",
       "      <td>Warm</td>\n",
       "      <td>Change</td>\n",
       "      <td>0</td>\n",
       "    </tr>\n",
       "    <tr>\n",
       "      <th>4</th>\n",
       "      <td>Sunny</td>\n",
       "      <td>Warm</td>\n",
       "      <td>High</td>\n",
       "      <td>Strong</td>\n",
       "      <td>Cool</td>\n",
       "      <td>Change</td>\n",
       "      <td>1</td>\n",
       "    </tr>\n",
       "  </tbody>\n",
       "</table>\n",
       "</div>"
      ],
      "text/plain": [
       "       0     1       2       3     4       5  6\n",
       "1  Sunny  Warm  Normal  Strong  Warm    Same  1\n",
       "2  Sunny  Warm    High  Strong  Warm    Same  1\n",
       "3  Rainy  Cold    High  Strong  Warm  Change  0\n",
       "4  Sunny  Warm    High  Strong  Cool  Change  1"
      ]
     },
     "execution_count": 45,
     "metadata": {},
     "output_type": "execute_result"
    }
   ],
   "source": [
    "df=pd.read_csv(r'D:\\github\\ML\\4th issue\\program-2\\new_version\\ENJOYSPORT.csv',header=None)\n",
    "df.drop(0,axis=0,inplace=True)\n",
    "df.head()"
   ]
  },
  {
   "cell_type": "code",
   "execution_count": 46,
   "metadata": {},
   "outputs": [
    {
     "name": "stdout",
     "output_type": "stream",
     "text": [
      "<class 'pandas.core.frame.DataFrame'>\n",
      "RangeIndex: 4 entries, 1 to 4\n",
      "Data columns (total 7 columns):\n",
      " #   Column  Non-Null Count  Dtype \n",
      "---  ------  --------------  ----- \n",
      " 0   0       4 non-null      object\n",
      " 1   1       4 non-null      object\n",
      " 2   2       4 non-null      object\n",
      " 3   3       4 non-null      object\n",
      " 4   4       4 non-null      object\n",
      " 5   5       4 non-null      object\n",
      " 6   6       4 non-null      object\n",
      "dtypes: object(7)\n",
      "memory usage: 356.0+ bytes\n"
     ]
    }
   ],
   "source": [
    "df.info()"
   ]
  },
  {
   "cell_type": "code",
   "execution_count": 47,
   "metadata": {},
   "outputs": [
    {
     "name": "stdout",
     "output_type": "stream",
     "text": [
      "<class 'pandas.core.frame.DataFrame'>\n",
      "RangeIndex: 4 entries, 1 to 4\n",
      "Data columns (total 7 columns):\n",
      " #   Column  Non-Null Count  Dtype \n",
      "---  ------  --------------  ----- \n",
      " 0   0       4 non-null      object\n",
      " 1   1       4 non-null      object\n",
      " 2   2       4 non-null      object\n",
      " 3   3       4 non-null      object\n",
      " 4   4       4 non-null      object\n",
      " 5   5       4 non-null      object\n",
      " 6   6       4 non-null      int64 \n",
      "dtypes: int64(1), object(6)\n",
      "memory usage: 356.0+ bytes\n"
     ]
    }
   ],
   "source": [
    "df[6] = df[6].apply(np.int64)\n",
    "df.info()"
   ]
  },
  {
   "cell_type": "code",
   "execution_count": 48,
   "metadata": {},
   "outputs": [],
   "source": [
    "row_len,col_len=df.shape"
   ]
  },
  {
   "cell_type": "code",
   "execution_count": 49,
   "metadata": {},
   "outputs": [
    {
     "name": "stdout",
     "output_type": "stream",
     "text": [
      "['Sunny', 'Warm', '?', 'Strong', '?', '?']\n"
     ]
    }
   ],
   "source": [
    "a=[]\n",
    "flag=0\n",
    "for index,row in df.iterrows():\n",
    "    if(row[col_len-1]=='1' or row[col_len-1]==1):\n",
    "        if(flag==0):\n",
    "            flag=1\n",
    "            a.extend(row[0:col_len-1])\n",
    "        for i in range(col_len-1):\n",
    "            if(row[i]==a[i]):\n",
    "                a[i]==row[i]\n",
    "            else:\n",
    "                a[i]='?'\n",
    "print(a)"
   ]
  },
  {
   "attachments": {},
   "cell_type": "markdown",
   "metadata": {},
   "source": [
    "## list_then_eleminate"
   ]
  },
  {
   "attachments": {},
   "cell_type": "markdown",
   "metadata": {},
   "source": [
    "<pre>\n",
    "The LIST-THEN-ELIMINATE Algorithm \n",
    "1. VersionSpace <- a list containing every hypothesis in H \n",
    "2. For each training example, (x, c(x)) \n",
    "           remove from VersionSpace any hypothesis h for which h(x) != c(x) \n",
    "3. Output the list of hypotheses in VersionSpace\n",
    "</pre>"
   ]
  },
  {
   "attachments": {},
   "cell_type": "markdown",
   "metadata": {},
   "source": [
    "### getting the Version_space"
   ]
  },
  {
   "cell_type": "code",
   "execution_count": 50,
   "metadata": {},
   "outputs": [
    {
     "data": {
      "text/plain": [
       "[['Rainy', 'Sunny', '$', '?'],\n",
       " ['Warm', '$', '?', 'Cold'],\n",
       " ['?', 'High', '$', 'Normal'],\n",
       " ['Strong', '$', '?'],\n",
       " ['Cool', 'Warm', '$', '?'],\n",
       " ['Same', 'Change', '$', '?']]"
      ]
     },
     "execution_count": 50,
     "metadata": {},
     "output_type": "execute_result"
    }
   ],
   "source": [
    "new_list=list()\n",
    "for i in range(col_len-1):\n",
    "    version_space=set()\n",
    "    for index,row in df.iterrows():\n",
    "        version_space.add(row[i])\n",
    "        version_space.add('$')\n",
    "        version_space.add('?')\n",
    "    new_list.append(list(version_space))\n",
    "new_list"
   ]
  },
  {
   "attachments": {},
   "cell_type": "markdown",
   "metadata": {},
   "source": [
    "### now let us use a trick of itertools"
   ]
  },
  {
   "cell_type": "code",
   "execution_count": 51,
   "metadata": {},
   "outputs": [
    {
     "name": "stdout",
     "output_type": "stream",
     "text": [
      "total no element in versionSpace 3072\n"
     ]
    },
    {
     "data": {
      "text/plain": [
       "[('Rainy', 'Warm', '?', 'Strong', 'Cool', 'Same'),\n",
       " ('Rainy', 'Warm', '?', 'Strong', 'Cool', 'Change'),\n",
       " ('Rainy', 'Warm', '?', 'Strong', 'Cool', '$'),\n",
       " ('Rainy', 'Warm', '?', 'Strong', 'Cool', '?'),\n",
       " ('Rainy', 'Warm', '?', 'Strong', 'Warm', 'Same'),\n",
       " ('Rainy', 'Warm', '?', 'Strong', 'Warm', 'Change'),\n",
       " ('Rainy', 'Warm', '?', 'Strong', 'Warm', '$'),\n",
       " ('Rainy', 'Warm', '?', 'Strong', 'Warm', '?'),\n",
       " ('Rainy', 'Warm', '?', 'Strong', '$', 'Same'),\n",
       " ('Rainy', 'Warm', '?', 'Strong', '$', 'Change')]"
      ]
     },
     "execution_count": 51,
     "metadata": {},
     "output_type": "execute_result"
    }
   ],
   "source": [
    "version_space=list(itertools.product(*new_list))\n",
    "print('total no element in versionSpace',len(version_space))\n",
    "version_space[:10]"
   ]
  },
  {
   "cell_type": "code",
   "execution_count": 52,
   "metadata": {},
   "outputs": [],
   "source": [
    "def apply(key,df):\n",
    "    for index,row in df.iterrows():\n",
    "        flag=0\n",
    "        for i in range(col_len-1):\n",
    "            if(key[i]=='?' or key[i]==row[i]):\n",
    "                flag+=1\n",
    "            else:\n",
    "                continue\n",
    "        if(flag==col_len-1 and row[col_len-1]==1) or (flag!=col_len-1 and row[col_len-1]==0):\n",
    "            continue\n",
    "        else:\n",
    "            return 1\n",
    "    return 0\n",
    "# apply(('Sunny', 'Warm', '?', 'Strong', '?', '?'),df)"
   ]
  },
  {
   "cell_type": "code",
   "execution_count": 53,
   "metadata": {},
   "outputs": [
    {
     "name": "stdout",
     "output_type": "stream",
     "text": [
      "('Sunny', 'Warm', '?', 'Strong', '?', '?')\n",
      "('Sunny', 'Warm', '?', '?', '?', '?')\n",
      "('Sunny', '?', '?', 'Strong', '?', '?')\n",
      "('Sunny', '?', '?', '?', '?', '?')\n",
      "('?', 'Warm', '?', 'Strong', '?', '?')\n",
      "('?', 'Warm', '?', '?', '?', '?')\n"
     ]
    }
   ],
   "source": [
    "for i in version_space:\n",
    "    p=apply(i,df)\n",
    "    if(p==0):\n",
    "        print(i)"
   ]
  }
 ],
 "metadata": {
  "kernelspec": {
   "display_name": "Python 3",
   "language": "python",
   "name": "python3"
  },
  "language_info": {
   "codemirror_mode": {
    "name": "ipython",
    "version": 3
   },
   "file_extension": ".py",
   "mimetype": "text/x-python",
   "name": "python",
   "nbconvert_exporter": "python",
   "pygments_lexer": "ipython3",
   "version": "3.10.7"
  },
  "orig_nbformat": 4
 },
 "nbformat": 4,
 "nbformat_minor": 2
}
