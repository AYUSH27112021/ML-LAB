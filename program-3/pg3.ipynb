{
  "cells": [
    {
      "cell_type": "markdown",
      "metadata": {
        "id": "RxcJfW8e3IyT"
      },
      "source": [
        "# pg_3"
      ]
    },
    {
      "cell_type": "code",
      "execution_count": 5,
      "metadata": {
        "id": "NB1tCIzQ7Rcb"
      },
      "outputs": [],
      "source": [
        "import pandas as pd"
      ]
    },
    {
      "cell_type": "code",
      "execution_count": 18,
      "metadata": {
        "colab": {
          "base_uri": "https://localhost:8080/",
          "height": 206
        },
        "id": "WJ4dtTc93GdJ",
        "outputId": "9b4feaa4-2a76-47c5-f048-12b381fb6343"
      },
      "outputs": [
        {
          "data": {
            "text/html": [
              "<div>\n",
              "<style scoped>\n",
              "    .dataframe tbody tr th:only-of-type {\n",
              "        vertical-align: middle;\n",
              "    }\n",
              "\n",
              "    .dataframe tbody tr th {\n",
              "        vertical-align: top;\n",
              "    }\n",
              "\n",
              "    .dataframe thead th {\n",
              "        text-align: right;\n",
              "    }\n",
              "</style>\n",
              "<table border=\"1\" class=\"dataframe\">\n",
              "  <thead>\n",
              "    <tr style=\"text-align: right;\">\n",
              "      <th></th>\n",
              "      <th>mpg</th>\n",
              "      <th>cylinders</th>\n",
              "      <th>displacement</th>\n",
              "      <th>horsepower</th>\n",
              "      <th>weight</th>\n",
              "      <th>acceleration</th>\n",
              "      <th>model year</th>\n",
              "      <th>origin</th>\n",
              "      <th>car name</th>\n",
              "    </tr>\n",
              "  </thead>\n",
              "  <tbody>\n",
              "    <tr>\n",
              "      <th>0</th>\n",
              "      <td>22.0</td>\n",
              "      <td>4</td>\n",
              "      <td>140.0</td>\n",
              "      <td>72.0</td>\n",
              "      <td>2408</td>\n",
              "      <td>19.0</td>\n",
              "      <td>71</td>\n",
              "      <td>1</td>\n",
              "      <td>chevrolet vega (sw)</td>\n",
              "    </tr>\n",
              "    <tr>\n",
              "      <th>1</th>\n",
              "      <td>23.0</td>\n",
              "      <td>8</td>\n",
              "      <td>350.0</td>\n",
              "      <td>NaN</td>\n",
              "      <td>3900</td>\n",
              "      <td>17.4</td>\n",
              "      <td>79</td>\n",
              "      <td>1</td>\n",
              "      <td>cadillac eldorado</td>\n",
              "    </tr>\n",
              "    <tr>\n",
              "      <th>2</th>\n",
              "      <td>36.0</td>\n",
              "      <td>4</td>\n",
              "      <td>98.0</td>\n",
              "      <td>70.0</td>\n",
              "      <td>2125</td>\n",
              "      <td>17.3</td>\n",
              "      <td>82</td>\n",
              "      <td>1</td>\n",
              "      <td>mercury lynx l</td>\n",
              "    </tr>\n",
              "    <tr>\n",
              "      <th>3</th>\n",
              "      <td>26.8</td>\n",
              "      <td>6</td>\n",
              "      <td>173.0</td>\n",
              "      <td>115.0</td>\n",
              "      <td>2700</td>\n",
              "      <td>12.9</td>\n",
              "      <td>79</td>\n",
              "      <td>1</td>\n",
              "      <td>oldsmobile omega brougham</td>\n",
              "    </tr>\n",
              "    <tr>\n",
              "      <th>4</th>\n",
              "      <td>22.5</td>\n",
              "      <td>6</td>\n",
              "      <td>232.0</td>\n",
              "      <td>90.0</td>\n",
              "      <td>3085</td>\n",
              "      <td>17.6</td>\n",
              "      <td>76</td>\n",
              "      <td>1</td>\n",
              "      <td>amc hornet</td>\n",
              "    </tr>\n",
              "  </tbody>\n",
              "</table>\n",
              "</div>"
            ],
            "text/plain": [
              "    mpg  cylinders  displacement  horsepower  weight  acceleration  \\\n",
              "0  22.0          4         140.0        72.0    2408          19.0   \n",
              "1  23.0          8         350.0         NaN    3900          17.4   \n",
              "2  36.0          4          98.0        70.0    2125          17.3   \n",
              "3  26.8          6         173.0       115.0    2700          12.9   \n",
              "4  22.5          6         232.0        90.0    3085          17.6   \n",
              "\n",
              "   model year  origin                   car name  \n",
              "0          71       1        chevrolet vega (sw)  \n",
              "1          79       1          cadillac eldorado  \n",
              "2          82       1             mercury lynx l  \n",
              "3          79       1  oldsmobile omega brougham  \n",
              "4          76       1                 amc hornet  "
            ]
          },
          "execution_count": 18,
          "metadata": {},
          "output_type": "execute_result"
        }
      ],
      "source": [
        "df=pd.read_excel(r'D:\\notes\\sem 6\\ml lab\\new_pg3\\dataset_program_3.xlsx')\n",
        "df.head()\n",
        "#df.shape"
      ]
    },
    {
      "cell_type": "markdown",
      "metadata": {
        "id": "qaIeUBO-3aD8"
      },
      "source": [
        "###Checking For Single valued Row"
      ]
    },
    {
      "cell_type": "code",
      "execution_count": 7,
      "metadata": {
        "colab": {
          "base_uri": "https://localhost:8080/",
          "height": 0
        },
        "id": "K6hSAjBr3Wn0",
        "outputId": "d5701bc2-314c-4dce-c70d-6d401879974e"
      },
      "outputs": [
        {
          "name": "stdout",
          "output_type": "stream",
          "text": [
            "False\n",
            "False\n",
            "False\n",
            "False\n",
            "False\n",
            "False\n",
            "False\n",
            "True\n",
            "False\n"
          ]
        }
      ],
      "source": [
        "a=list(df.columns)\n",
        "for i in a:\n",
        "  print(len(df[i].unique())<3)"
      ]
    },
    {
      "cell_type": "code",
      "execution_count": 8,
      "metadata": {
        "colab": {
          "base_uri": "https://localhost:8080/",
          "height": 206
        },
        "id": "jV48vKY238xU",
        "outputId": "864565c8-18f1-47f3-978d-b5ce56ee6fdb"
      },
      "outputs": [
        {
          "data": {
            "text/html": [
              "<div>\n",
              "<style scoped>\n",
              "    .dataframe tbody tr th:only-of-type {\n",
              "        vertical-align: middle;\n",
              "    }\n",
              "\n",
              "    .dataframe tbody tr th {\n",
              "        vertical-align: top;\n",
              "    }\n",
              "\n",
              "    .dataframe thead th {\n",
              "        text-align: right;\n",
              "    }\n",
              "</style>\n",
              "<table border=\"1\" class=\"dataframe\">\n",
              "  <thead>\n",
              "    <tr style=\"text-align: right;\">\n",
              "      <th></th>\n",
              "      <th>mpg</th>\n",
              "      <th>cylinders</th>\n",
              "      <th>displacement</th>\n",
              "      <th>horsepower</th>\n",
              "      <th>weight</th>\n",
              "      <th>acceleration</th>\n",
              "      <th>model year</th>\n",
              "      <th>car name</th>\n",
              "    </tr>\n",
              "  </thead>\n",
              "  <tbody>\n",
              "    <tr>\n",
              "      <th>0</th>\n",
              "      <td>22.0</td>\n",
              "      <td>4</td>\n",
              "      <td>140.0</td>\n",
              "      <td>72.0</td>\n",
              "      <td>2408</td>\n",
              "      <td>19.0</td>\n",
              "      <td>71</td>\n",
              "      <td>chevrolet vega (sw)</td>\n",
              "    </tr>\n",
              "    <tr>\n",
              "      <th>1</th>\n",
              "      <td>23.0</td>\n",
              "      <td>8</td>\n",
              "      <td>350.0</td>\n",
              "      <td>NaN</td>\n",
              "      <td>3900</td>\n",
              "      <td>17.4</td>\n",
              "      <td>79</td>\n",
              "      <td>cadillac eldorado</td>\n",
              "    </tr>\n",
              "    <tr>\n",
              "      <th>2</th>\n",
              "      <td>36.0</td>\n",
              "      <td>4</td>\n",
              "      <td>98.0</td>\n",
              "      <td>70.0</td>\n",
              "      <td>2125</td>\n",
              "      <td>17.3</td>\n",
              "      <td>82</td>\n",
              "      <td>mercury lynx l</td>\n",
              "    </tr>\n",
              "    <tr>\n",
              "      <th>3</th>\n",
              "      <td>26.8</td>\n",
              "      <td>6</td>\n",
              "      <td>173.0</td>\n",
              "      <td>115.0</td>\n",
              "      <td>2700</td>\n",
              "      <td>12.9</td>\n",
              "      <td>79</td>\n",
              "      <td>oldsmobile omega brougham</td>\n",
              "    </tr>\n",
              "    <tr>\n",
              "      <th>4</th>\n",
              "      <td>22.5</td>\n",
              "      <td>6</td>\n",
              "      <td>232.0</td>\n",
              "      <td>90.0</td>\n",
              "      <td>3085</td>\n",
              "      <td>17.6</td>\n",
              "      <td>76</td>\n",
              "      <td>amc hornet</td>\n",
              "    </tr>\n",
              "  </tbody>\n",
              "</table>\n",
              "</div>"
            ],
            "text/plain": [
              "    mpg  cylinders  displacement  horsepower  weight  acceleration  \\\n",
              "0  22.0          4         140.0        72.0    2408          19.0   \n",
              "1  23.0          8         350.0         NaN    3900          17.4   \n",
              "2  36.0          4          98.0        70.0    2125          17.3   \n",
              "3  26.8          6         173.0       115.0    2700          12.9   \n",
              "4  22.5          6         232.0        90.0    3085          17.6   \n",
              "\n",
              "   model year                   car name  \n",
              "0          71        chevrolet vega (sw)  \n",
              "1          79          cadillac eldorado  \n",
              "2          82             mercury lynx l  \n",
              "3          79  oldsmobile omega brougham  \n",
              "4          76                 amc hornet  "
            ]
          },
          "execution_count": 8,
          "metadata": {},
          "output_type": "execute_result"
        }
      ],
      "source": [
        "df.drop('origin',axis=1,inplace=True)\n",
        "df.head()"
      ]
    },
    {
      "cell_type": "code",
      "execution_count": 16,
      "metadata": {},
      "outputs": [
        {
          "data": {
            "text/plain": [
              "(298, 8)"
            ]
          },
          "execution_count": 16,
          "metadata": {},
          "output_type": "execute_result"
        }
      ],
      "source": [
        "df.shape"
      ]
    },
    {
      "cell_type": "markdown",
      "metadata": {
        "id": "lSvbDJJb3-GY"
      },
      "source": [
        "### Checking and removing null value"
      ]
    },
    {
      "cell_type": "code",
      "execution_count": 9,
      "metadata": {
        "colab": {
          "base_uri": "https://localhost:8080/",
          "height": 0
        },
        "id": "FFNQziwV4DX2",
        "outputId": "1ba387cb-5771-4000-c92a-a3bbc6a3ee9b"
      },
      "outputs": [
        {
          "data": {
            "text/plain": [
              "mpg              0\n",
              "cylinders        0\n",
              "displacement    12\n",
              "horsepower       6\n",
              "weight           0\n",
              "acceleration     0\n",
              "model year       0\n",
              "car name         0\n",
              "dtype: int64"
            ]
          },
          "execution_count": 9,
          "metadata": {},
          "output_type": "execute_result"
        }
      ],
      "source": [
        "df.isnull().sum()"
      ]
    },
    {
      "cell_type": "code",
      "execution_count": 10,
      "metadata": {
        "id": "QeOOUSV14dmF"
      },
      "outputs": [],
      "source": [
        "a=df['displacement'].mean()\n",
        "# df['displacement'].median()\n",
        "# df['displacement'].mode()\n",
        "b=df['horsepower'].mean()"
      ]
    },
    {
      "cell_type": "code",
      "execution_count": 11,
      "metadata": {
        "id": "L5kgfj-L4HMJ"
      },
      "outputs": [],
      "source": [
        "values = {\"displacement\": a, \"horsepower\":b }#250.734,122"
      ]
    },
    {
      "cell_type": "code",
      "execution_count": 12,
      "metadata": {
        "colab": {
          "base_uri": "https://localhost:8080/",
          "height": 0
        },
        "id": "b9t1VC_U4TYr",
        "outputId": "68014e98-5b92-4a1e-f841-e6149d5caba3"
      },
      "outputs": [
        {
          "data": {
            "text/plain": [
              "mpg             0\n",
              "cylinders       0\n",
              "displacement    0\n",
              "horsepower      0\n",
              "weight          0\n",
              "acceleration    0\n",
              "model year      0\n",
              "car name        0\n",
              "dtype: int64"
            ]
          },
          "execution_count": 12,
          "metadata": {},
          "output_type": "execute_result"
        }
      ],
      "source": [
        "df.fillna(value=values,inplace=True)\n",
        "df.isnull().sum()"
      ]
    },
    {
      "cell_type": "markdown",
      "metadata": {
        "id": "4oeFD6ES4aj0"
      },
      "source": [
        "##Removing Duplicate rows"
      ]
    },
    {
      "cell_type": "code",
      "execution_count": 13,
      "metadata": {
        "colab": {
          "base_uri": "https://localhost:8080/",
          "height": 0
        },
        "id": "3kc-1u425Tc-",
        "outputId": "2508476d-ae52-4eed-c93f-d55122342ca6"
      },
      "outputs": [
        {
          "data": {
            "text/plain": [
              "0       True\n",
              "1      False\n",
              "2      False\n",
              "3      False\n",
              "4      False\n",
              "       ...  \n",
              "293     True\n",
              "294     True\n",
              "295    False\n",
              "296    False\n",
              "297    False\n",
              "Length: 298, dtype: bool"
            ]
          },
          "execution_count": 13,
          "metadata": {},
          "output_type": "execute_result"
        }
      ],
      "source": [
        "data=df.duplicated(keep=False)\n",
        "data"
      ]
    },
    {
      "cell_type": "code",
      "execution_count": 14,
      "metadata": {
        "colab": {
          "base_uri": "https://localhost:8080/",
          "height": 423
        },
        "id": "PLdBzNJi7DkW",
        "outputId": "b861e967-a9d0-421b-944b-23f834a17614"
      },
      "outputs": [
        {
          "data": {
            "text/html": [
              "<div>\n",
              "<style scoped>\n",
              "    .dataframe tbody tr th:only-of-type {\n",
              "        vertical-align: middle;\n",
              "    }\n",
              "\n",
              "    .dataframe tbody tr th {\n",
              "        vertical-align: top;\n",
              "    }\n",
              "\n",
              "    .dataframe thead th {\n",
              "        text-align: right;\n",
              "    }\n",
              "</style>\n",
              "<table border=\"1\" class=\"dataframe\">\n",
              "  <thead>\n",
              "    <tr style=\"text-align: right;\">\n",
              "      <th></th>\n",
              "      <th>mpg</th>\n",
              "      <th>cylinders</th>\n",
              "      <th>displacement</th>\n",
              "      <th>horsepower</th>\n",
              "      <th>weight</th>\n",
              "      <th>acceleration</th>\n",
              "      <th>model year</th>\n",
              "      <th>car name</th>\n",
              "    </tr>\n",
              "  </thead>\n",
              "  <tbody>\n",
              "    <tr>\n",
              "      <th>225</th>\n",
              "      <td>11.0</td>\n",
              "      <td>8</td>\n",
              "      <td>250.734266</td>\n",
              "      <td>150.0</td>\n",
              "      <td>4997</td>\n",
              "      <td>14.0</td>\n",
              "      <td>73</td>\n",
              "      <td>chevrolet impala</td>\n",
              "    </tr>\n",
              "    <tr>\n",
              "      <th>212</th>\n",
              "      <td>11.0</td>\n",
              "      <td>8</td>\n",
              "      <td>429.000000</td>\n",
              "      <td>208.0</td>\n",
              "      <td>4633</td>\n",
              "      <td>11.0</td>\n",
              "      <td>72</td>\n",
              "      <td>mercury marquis</td>\n",
              "    </tr>\n",
              "    <tr>\n",
              "      <th>208</th>\n",
              "      <td>11.0</td>\n",
              "      <td>8</td>\n",
              "      <td>250.734266</td>\n",
              "      <td>150.0</td>\n",
              "      <td>4997</td>\n",
              "      <td>14.0</td>\n",
              "      <td>73</td>\n",
              "      <td>chevrolet impala</td>\n",
              "    </tr>\n",
              "    <tr>\n",
              "      <th>49</th>\n",
              "      <td>11.0</td>\n",
              "      <td>8</td>\n",
              "      <td>429.000000</td>\n",
              "      <td>208.0</td>\n",
              "      <td>4633</td>\n",
              "      <td>11.0</td>\n",
              "      <td>72</td>\n",
              "      <td>mercury marquis</td>\n",
              "    </tr>\n",
              "    <tr>\n",
              "      <th>115</th>\n",
              "      <td>12.0</td>\n",
              "      <td>8</td>\n",
              "      <td>429.000000</td>\n",
              "      <td>198.0</td>\n",
              "      <td>4952</td>\n",
              "      <td>11.5</td>\n",
              "      <td>73</td>\n",
              "      <td>mercury marquis brougham</td>\n",
              "    </tr>\n",
              "    <tr>\n",
              "      <th>...</th>\n",
              "      <td>...</td>\n",
              "      <td>...</td>\n",
              "      <td>...</td>\n",
              "      <td>...</td>\n",
              "      <td>...</td>\n",
              "      <td>...</td>\n",
              "      <td>...</td>\n",
              "      <td>...</td>\n",
              "    </tr>\n",
              "    <tr>\n",
              "      <th>99</th>\n",
              "      <td>25.0</td>\n",
              "      <td>4</td>\n",
              "      <td>97.500000</td>\n",
              "      <td>80.0</td>\n",
              "      <td>2126</td>\n",
              "      <td>17.0</td>\n",
              "      <td>72</td>\n",
              "      <td>dodge colt hardtop</td>\n",
              "    </tr>\n",
              "    <tr>\n",
              "      <th>251</th>\n",
              "      <td>26.0</td>\n",
              "      <td>4</td>\n",
              "      <td>91.000000</td>\n",
              "      <td>70.0</td>\n",
              "      <td>1955</td>\n",
              "      <td>20.5</td>\n",
              "      <td>71</td>\n",
              "      <td>plymouth cricket</td>\n",
              "    </tr>\n",
              "    <tr>\n",
              "      <th>289</th>\n",
              "      <td>26.0</td>\n",
              "      <td>4</td>\n",
              "      <td>91.000000</td>\n",
              "      <td>70.0</td>\n",
              "      <td>1955</td>\n",
              "      <td>20.5</td>\n",
              "      <td>71</td>\n",
              "      <td>plymouth cricket</td>\n",
              "    </tr>\n",
              "    <tr>\n",
              "      <th>194</th>\n",
              "      <td>28.0</td>\n",
              "      <td>4</td>\n",
              "      <td>98.000000</td>\n",
              "      <td>80.0</td>\n",
              "      <td>2164</td>\n",
              "      <td>15.0</td>\n",
              "      <td>72</td>\n",
              "      <td>dodge colt (sw)</td>\n",
              "    </tr>\n",
              "    <tr>\n",
              "      <th>130</th>\n",
              "      <td>28.0</td>\n",
              "      <td>4</td>\n",
              "      <td>98.000000</td>\n",
              "      <td>80.0</td>\n",
              "      <td>2164</td>\n",
              "      <td>15.0</td>\n",
              "      <td>72</td>\n",
              "      <td>dodge colt (sw)</td>\n",
              "    </tr>\n",
              "  </tbody>\n",
              "</table>\n",
              "<p>98 rows × 8 columns</p>\n",
              "</div>"
            ],
            "text/plain": [
              "      mpg  cylinders  displacement  horsepower  weight  acceleration  \\\n",
              "225  11.0          8    250.734266       150.0    4997          14.0   \n",
              "212  11.0          8    429.000000       208.0    4633          11.0   \n",
              "208  11.0          8    250.734266       150.0    4997          14.0   \n",
              "49   11.0          8    429.000000       208.0    4633          11.0   \n",
              "115  12.0          8    429.000000       198.0    4952          11.5   \n",
              "..    ...        ...           ...         ...     ...           ...   \n",
              "99   25.0          4     97.500000        80.0    2126          17.0   \n",
              "251  26.0          4     91.000000        70.0    1955          20.5   \n",
              "289  26.0          4     91.000000        70.0    1955          20.5   \n",
              "194  28.0          4     98.000000        80.0    2164          15.0   \n",
              "130  28.0          4     98.000000        80.0    2164          15.0   \n",
              "\n",
              "     model year                  car name  \n",
              "225          73          chevrolet impala  \n",
              "212          72           mercury marquis  \n",
              "208          73          chevrolet impala  \n",
              "49           72           mercury marquis  \n",
              "115          73  mercury marquis brougham  \n",
              "..          ...                       ...  \n",
              "99           72        dodge colt hardtop  \n",
              "251          71          plymouth cricket  \n",
              "289          71          plymouth cricket  \n",
              "194          72           dodge colt (sw)  \n",
              "130          72           dodge colt (sw)  \n",
              "\n",
              "[98 rows x 8 columns]"
            ]
          },
          "execution_count": 14,
          "metadata": {},
          "output_type": "execute_result"
        }
      ],
      "source": [
        "data=df[df.duplicated(keep=False)]\n",
        "data.sort_values(by='mpg')"
      ]
    },
    {
      "cell_type": "code",
      "execution_count": 19,
      "metadata": {
        "colab": {
          "base_uri": "https://localhost:8080/",
          "height": 423
        },
        "id": "mWKFA8e05XP9",
        "outputId": "0836d009-8e5a-4042-e22f-3666f98d024d"
      },
      "outputs": [
        {
          "name": "stdout",
          "output_type": "stream",
          "text": [
            "      mpg  cylinders  displacement  horsepower  weight  acceleration  \\\n",
            "0    22.0          4         140.0        72.0    2408          19.0   \n",
            "1    23.0          8         350.0         NaN    3900          17.4   \n",
            "2    36.0          4          98.0        70.0    2125          17.3   \n",
            "3    26.8          6         173.0       115.0    2700          12.9   \n",
            "4    22.5          6         232.0        90.0    3085          17.6   \n",
            "..    ...        ...           ...         ...     ...           ...   \n",
            "291  17.7          6         231.0       165.0    3445          13.4   \n",
            "292  17.5          8         318.0       140.0    4080          13.7   \n",
            "295  14.0          8         455.0       225.0    3086          10.0   \n",
            "296  15.0          6         250.0        72.0    3432          21.0   \n",
            "297  18.6          6         225.0       110.0    3620          18.7   \n",
            "\n",
            "     model year  origin                         car name  \n",
            "0            71       1              chevrolet vega (sw)  \n",
            "1            79       1                cadillac eldorado  \n",
            "2            82       1                   mercury lynx l  \n",
            "3            79       1        oldsmobile omega brougham  \n",
            "4            76       1                       amc hornet  \n",
            "..          ...     ...                              ...  \n",
            "291          78       1  buick regal sport coupe (turbo)  \n",
            "292          78       1                  dodge magnum xe  \n",
            "295          70       1          buick estate wagon (sw)  \n",
            "296          75       1                  mercury monarch  \n",
            "297          78       1                      dodge aspen  \n",
            "\n",
            "[249 rows x 9 columns]\n"
          ]
        }
      ],
      "source": [
        "data = pd.DataFrame(df)\n",
        "print(data.drop_duplicates())"
      ]
    }
  ],
  "metadata": {
    "colab": {
      "provenance": []
    },
    "kernelspec": {
      "display_name": "Python 3",
      "name": "python3"
    },
    "language_info": {
      "codemirror_mode": {
        "name": "ipython",
        "version": 3
      },
      "file_extension": ".py",
      "mimetype": "text/x-python",
      "name": "python",
      "nbconvert_exporter": "python",
      "pygments_lexer": "ipython3",
      "version": "3.10.7"
    }
  },
  "nbformat": 4,
  "nbformat_minor": 0
}
