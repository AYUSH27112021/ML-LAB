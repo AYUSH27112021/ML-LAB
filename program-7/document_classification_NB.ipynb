{
  "cells": [
    {
      "cell_type": "code",
      "execution_count": null,
      "metadata": {
        "id": "_JYJS87XcQ-6"
      },
      "outputs": [],
      "source": [
        "import numpy as np, pandas as pd\n",
        "from sklearn.datasets import fetch_20newsgroups\n",
        "from sklearn.feature_extraction.text import TfidfVectorizer\n",
        "from sklearn.naive_bayes import MultinomialNB\n",
        "from sklearn.pipeline import make_pipeline\n",
        "from sklearn.metrics import confusion_matrix, accuracy_score\n",
        "from sklearn.metrics import classification_report\n"
      ]
    },
    {
      "cell_type": "code",
      "execution_count": null,
      "metadata": {
        "id": "TzrCx0KBcadW"
      },
      "outputs": [],
      "source": [
        "data = fetch_20newsgroups()\n",
        "text_categories = data.target_names\n",
        "train_data = fetch_20newsgroups(subset=\"train\", categories=text_categories)\n",
        "test_data = fetch_20newsgroups(subset=\"test\", categories=text_categories)"
      ]
    },
    {
      "cell_type": "code",
      "execution_count": null,
      "metadata": {
        "colab": {
          "base_uri": "https://localhost:8080/"
        },
        "id": "Vp2Poaj3ckEg",
        "outputId": "1cb0cfb0-c14f-4274-d2eb-dd0e1cdd2a52"
      },
      "outputs": [
        {
          "name": "stdout",
          "output_type": "stream",
          "text": [
            "Number of unique classes 20\n",
            "Number of training samples 11314 \n",
            "Number of test samples 7532\n"
          ]
        }
      ],
      "source": [
        "print(\"Number of unique classes {}\".format(len(text_categories)))\n",
        "print(\"Number of training samples {} \".format(len(train_data.data)))\n",
        "print(\"Number of test samples {}\".format(len(test_data.data)))"
      ]
    },
    {
      "cell_type": "code",
      "execution_count": null,
      "metadata": {
        "id": "JweBWBUKdJDj"
      },
      "outputs": [],
      "source": [
        "print(test_data.data[3])"
      ]
    },
    {
      "cell_type": "code",
      "execution_count": null,
      "metadata": {
        "id": "HeTpHX0hdTOO"
      },
      "outputs": [],
      "source": [
        "model = make_pipeline(TfidfVectorizer(), MultinomialNB())"
      ]
    },
    {
      "cell_type": "code",
      "execution_count": null,
      "metadata": {
        "id": "P7wsULZjdZ7m"
      },
      "outputs": [],
      "source": [
        "model.fit(train_data.data, train_data.target)\n",
        "predicted_categories = model.predict(test_data.data)"
      ]
    },
    {
      "cell_type": "code",
      "execution_count": null,
      "metadata": {
        "id": "kRQ-KiJydrcN"
      },
      "outputs": [],
      "source": [
        "print(np.array(test_data.target_names)[predicted_categories])"
      ]
    },
    {
      "cell_type": "code",
      "execution_count": null,
      "metadata": {
        "id": "2RBcu2ADd4YI"
      },
      "outputs": [],
      "source": [
        "mat=confusion_matrix(test_data.target, predicted_categories)\n",
        "print(mat)"
      ]
    },
    {
      "cell_type": "code",
      "execution_count": null,
      "metadata": {
        "colab": {
          "base_uri": "https://localhost:8080/"
        },
        "id": "Fa75W5pPeAMw",
        "outputId": "e425b1dd-73ae-4c38-82df-4660ca6af9dd"
      },
      "outputs": [
        {
          "name": "stdout",
          "output_type": "stream",
          "text": [
            "Accuracy: 0.7738980350504514\n"
          ]
        }
      ],
      "source": [
        "print(classification_report(test_data.target, predicted_categories, target_names=text_categories))"
      ]
    }
  ],
  "metadata": {
    "colab": {
      "provenance": []
    },
    "kernelspec": {
      "display_name": "Python 3",
      "name": "python3"
    },
    "language_info": {
      "name": "python",
      "version": "3.10.7"
    }
  },
  "nbformat": 4,
  "nbformat_minor": 0
}
